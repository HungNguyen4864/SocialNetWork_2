{
 "cells": [
  {
   "cell_type": "code",
   "execution_count": null,
   "metadata": {},
   "outputs": [],
   "source": [
    "import time\n",
    "import pandas as pd\n",
    "from groupmembercrawl import FacebookGroupMemberCrawl\n",
    "from grouppostcrawl import FacebookGroupPostCrawl"
   ]
  },
  {
   "cell_type": "code",
   "execution_count": null,
   "metadata": {},
   "outputs": [],
   "source": [
    "username = 'phanmthihoa05@gmail.com'\n",
    "password = 'Hung26082003'\n",
    "group_id = '811896080494851'\n",
    "scroll_count = 1500\n",
    "try:\n",
    "    scraper = FacebookGroupPostCrawl(username= username, password = password, group_id = group_id, scroll_count= scroll_count)\n",
    "    if scraper.login():\n",
    "        print('-----------------')\n",
    "        # postlist = scraper.get_group_posts()\n",
    "        # scraper.save_post_to_excel(postlist)\n",
    "        file_path = 'ex_post.xlsx'\n",
    "        deitalpost = scraper.get_detail_each_post_comments(file_path)\n",
    "        scraper.save_comments_to_excel(deitalpost)\n",
    "        time.sleep(10)\n",
    "except Exception as e:\n",
    "    pass\n"
   ]
  }
 ],
 "metadata": {
  "kernelspec": {
   "display_name": "base",
   "language": "python",
   "name": "python3"
  },
  "language_info": {
   "name": "python",
   "version": "3.11.7"
  }
 },
 "nbformat": 4,
 "nbformat_minor": 2
}
