{
 "cells": [
  {
   "cell_type": "code",
   "execution_count": 11,
   "metadata": {},
   "outputs": [],
   "source": [
    "from selenium import webdriver\n",
    "from selenium.webdriver.common.keys import Keys\n",
    "from selenium.webdriver.common.by import By\n",
    "from selenium.webdriver.support.ui import WebDriverWait\n",
    "from bs4 import BeautifulSoup\n",
    "from time import sleep\n",
    "import csv\n",
    "from selenium.webdriver.common.action_chains import ActionChains\n",
    "import pandas as pd\n",
    "import pyperclip\n"
   ]
  },
  {
   "cell_type": "code",
   "execution_count": 12,
   "metadata": {},
   "outputs": [],
   "source": [
    "driver = webdriver.Chrome()\n",
    "driver.maximize_window()"
   ]
  },
  {
   "cell_type": "code",
   "execution_count": 13,
   "metadata": {},
   "outputs": [],
   "source": [
    "driver.get(\"https://www.facebook.com/\")\n",
    "driver.implicitly_wait(10)"
   ]
  },
  {
   "cell_type": "code",
   "execution_count": 14,
   "metadata": {},
   "outputs": [
    {
     "name": "stdout",
     "output_type": "stream",
     "text": [
      "- Finish keying in email\n",
      "- Finish keying in password\n"
     ]
    }
   ],
   "source": [
    "# Task 1.2: Key in login credentials\n",
    "email_field = driver.find_element(By.ID, \"email\")\n",
    "email_field.send_keys(\"phanmthihoa05@gmail.com'\")\n",
    "print('- Finish keying in email')\n",
    "\n",
    "password_field = driver.find_element(By.ID, \"pass\")\n",
    "password_field.send_keys(\"Hung26082003\")\n",
    "print('- Finish keying in password')\n",
    "\n",
    "sleep(5)\n",
    "login_button = driver.find_element(By.NAME, \"login\").click()\n"
   ]
  },
  {
   "cell_type": "code",
   "execution_count": 15,
   "metadata": {},
   "outputs": [],
   "source": [
    "# access group id\n",
    "\n",
    "# group_id = \"1280400922659065\"\n",
    "# driver.get(f\"https://www.facebook.com/groups/{group_id}/\")\n",
    "driver.get(\"https://www.facebook.com/groups/811896080494851/899560911728367\")\n",
    "# driver.get(\"https://www.facebook.com/groups/1280400922659065/posts/1319622732070217/\")"
   ]
  },
  {
   "cell_type": "code",
   "execution_count": 16,
   "metadata": {},
   "outputs": [
    {
     "name": "stdout",
     "output_type": "stream",
     "text": [
      "Found element with XPath: //span[@class='xrbpyxo x6ikm8r x10wlt62 xlyipyv x1exxlbk']\n"
     ]
    }
   ],
   "source": [
    "xpaths = [\n",
    "    \"//span[@class='xrbpyxo x6ikm8r x10wlt62 xlyipyv x1exxlbk']\",\n",
    "    \"//span[@class='xrbpyxo x6ikm8r x10wlt62 xlyipyv x1exxlbk']//span[contains(text(), '2')]\"\n",
    "]\n",
    "\n",
    "for xpath in xpaths:\n",
    "    try:\n",
    "        reaction_button = driver.find_element(By.XPATH, xpath)\n",
    "        print(\"Found element with XPath:\", xpath)\n",
    "        driver.execute_script(\"arguments[0].click();\", reaction_button)\n",
    "        sleep(5)\n",
    "        break\n",
    "    except Exception as e:\n",
    "        print(f\"Failed for XPath: {xpath}, Error: {e}\")\n"
   ]
  },
  {
   "cell_type": "code",
   "execution_count": 17,
   "metadata": {},
   "outputs": [
    {
     "name": "stdout",
     "output_type": "stream",
     "text": [
      "Name: , User ID: 100018241594682\n",
      "Name: , User ID: 100095766662863\n",
      "Name: , User ID: 100095519711665\n",
      "Name: , User ID: 100095319623416\n",
      "Name: , User ID: 100095233511426\n",
      "Name: , User ID: 100095220515898\n",
      "Name: , User ID: 100095185989683\n",
      "Name: , User ID: 100095103133859\n",
      "Name: , User ID: 100094774144512\n",
      "Name: , User ID: 100094647772914\n",
      "Name: , User ID: 100094639776420\n",
      "Name: , User ID: 100094530871085\n",
      "Name: , User ID: 100094527852172\n",
      "Name: , User ID: 100094106127895\n",
      "Name: , User ID: 100093988186744\n",
      "Name: , User ID: 100093959056456\n",
      "Name: , User ID: 100093840573026\n",
      "Name: , User ID: 100093809927142\n",
      "Name: , User ID: 100093633027564\n",
      "Name: , User ID: 100093616056530\n",
      "Name: , User ID: 100088594703151\n",
      "Name: , User ID: 100088594703151\n",
      "Name: Lộc Thảo Hương, User ID: 100088594703151\n",
      "Name: , User ID: 100088594703151\n",
      "Name: Lộc Thảo Hương, User ID: 100088594703151\n",
      "Name: , User ID: 100088594703151\n",
      "Name: Lộc Thảo Hương, User ID: 100088594703151\n",
      "Name: , User ID: 100034976048355\n",
      "Name: Anh Hoai, User ID: 100034976048355\n",
      "Name: , User ID: 100034976048355\n",
      "Name: Anh Hoai, User ID: 100034976048355\n",
      "Name: , User ID: 61568816541792\n",
      "Name: Guy Named Fucc, User ID: 61568816541792\n",
      "Name: , User ID: 61556320383064\n",
      "Name: Huỳnh Nguyên, User ID: 61556320383064\n",
      "Name: , User ID: 100077647720238\n",
      "Name: Nghĩa Kiều Trung, User ID: 100077647720238\n",
      "Name: , User ID: 61556351535118\n",
      "Name: Kutoisme An, User ID: 61556351535118\n",
      "Name: , User ID: 100014601466591\n",
      "Name: Hiếu Hiếu, User ID: 100014601466591\n",
      "Name: Châu Tấn Phước, User ID: 100016445409072\n",
      "Name: , User ID: 100088594703151\n",
      "Name: Lộc Thảo Hương, User ID: 100088594703151\n",
      "Name: , User ID: 61553628396737\n",
      "Name: Khoa Hoàng, User ID: 61553628396737\n",
      "Name: , User ID: 61554915431792\n",
      "Name: Vale Rebekka, User ID: 61554915431792\n",
      "Data saved to reactions_info.xlsx\n"
     ]
    }
   ],
   "source": [
    "# Lấy danh sách các phần tử chứa thông tin người đã tương tác\n",
    "user_elements = driver.find_elements(By.XPATH, \"//a[contains(@href, '/user/')]\")\n",
    "\n",
    "# Duyệt qua các phần tử và trích xuất thông tin\n",
    "user_data = []\n",
    "for user in user_elements:\n",
    "    try:\n",
    "        user_name = user.text.strip()  # Lấy tên\n",
    "        user_id = user.get_attribute(\"href\").split(\"/user/\")[1].split(\"/\")[0]  # Lấy ID\n",
    "        user_data.append({\"Name\": user_name, \"User ID\": user_id})\n",
    "        print(f\"Name: {user_name}, User ID: {user_id}\")\n",
    "    except Exception as e:\n",
    "        print(f\"Error processing user: {e}\")\n",
    "\n",
    "# # Đóng trình duyệt\n",
    "# driver.quit()\n",
    "\n",
    "# Lưu thông tin vào file Excel\n",
    "import pandas as pd\n",
    "df = pd.DataFrame(user_data)\n",
    "df.to_excel(\"reactions_info.xlsx\", index=False)\n",
    "print(\"Data saved to reactions_info.xlsx\")"
   ]
  },
  {
   "cell_type": "code",
   "execution_count": 18,
   "metadata": {},
   "outputs": [],
   "source": [
    "# from selenium import webdriver\n",
    "# from selenium.webdriver.common.by import By\n",
    "# import time\n",
    "# import pandas as pd\n",
    "\n",
    "\n",
    "# # Tập hợp để lưu các ID đã duyệt\n",
    "# seen_user_ids = set()\n",
    "\n",
    "# # Danh sách để lưu thông tin người dùng\n",
    "# user_data = []\n",
    "\n",
    "# # Scroll màn hình và lấy thông tin\n",
    "# try:\n",
    "#     last_height = driver.execute_script(\"return document.body.scrollHeight\")\n",
    "#     scroll_count = 5  # Số lần scroll\n",
    "#     max_wait_time = 10  # Thời gian chờ tối đa cho các phần tử mới (giây)\n",
    "\n",
    "#     for scroll in range(scroll_count):\n",
    "#         print(f\"Scrolling: {scroll + 1}/{scroll_count}\")\n",
    "\n",
    "#         # Scroll xuống cuối trang\n",
    "#         driver.execute_script(\"window.scrollTo(0, document.body.scrollHeight);\")\n",
    "#         time.sleep(5)  # Chờ nội dung tải\n",
    "\n",
    "#         # Đợi các phần tử mới tải\n",
    "#         new_elements_loaded = False\n",
    "#         wait_time = 0\n",
    "#         while not new_elements_loaded and wait_time < max_wait_time:\n",
    "#             time.sleep(2)  # Chờ thêm 2 giây\n",
    "#             wait_time += 2\n",
    "\n",
    "#             # Kiểm tra nếu số lượng phần tử tăng lên\n",
    "#             user_elements = driver.find_elements(By.XPATH, \"//a[contains(@href, '/user/')]\")\n",
    "#             if len(user_elements) > len(user_data):  # Nếu có thêm phần tử mới\n",
    "#                 new_elements_loaded = True\n",
    "\n",
    "#         # Lấy danh sách các phần tử chứa thông tin người dùng\n",
    "#         user_elements = driver.find_elements(By.XPATH, \"//a[contains(@href, '/user/')]\")\n",
    "\n",
    "#         for user in user_elements:\n",
    "#             try:\n",
    "#                 user_name = user.text.strip()  # Tên người dùng\n",
    "#                 user_id = user.get_attribute(\"href\").split(\"/user/\")[1].split(\"/\")[0]  # ID người dùng\n",
    "\n",
    "#                 # Kiểm tra trùng lặp\n",
    "#                 if user_id not in seen_user_ids:\n",
    "#                     seen_user_ids.add(user_id)\n",
    "#                     user_data.append({\"Name\": user_name, \"User ID\": user_id})\n",
    "#                     print(f\"Collected: Name={user_name}, User ID={user_id}\")\n",
    "#             except Exception as e:\n",
    "#                 print(f\"Error processing user element: {e}\")\n",
    "\n",
    "#         # Kiểm tra nếu không có nội dung mới được tải\n",
    "#         new_height = driver.execute_script(\"return document.body.scrollHeight\")\n",
    "#         if new_height == last_height:\n",
    "#             print(\"No new content loaded. Stopping scrolling.\")\n",
    "#             break\n",
    "#         last_height = new_height\n",
    "\n",
    "# except Exception as e:\n",
    "#     print(f\"Error during scrolling and data extraction: {e}\")\n",
    "# finally:\n",
    "#     driver.quit()\n",
    "\n",
    "# # Lưu dữ liệu vào Excel\n",
    "# if user_data:\n",
    "#     df = pd.DataFrame(user_data)\n",
    "#     df.to_excel(\"reactions_info.xlsx\", index=False)\n",
    "#     print(\"Data saved to reactions_info.xlsx\")\n",
    "# else:\n",
    "#     print(\"No user data collected.\")\n"
   ]
  }
 ],
 "metadata": {
  "kernelspec": {
   "display_name": "base",
   "language": "python",
   "name": "python3"
  },
  "language_info": {
   "codemirror_mode": {
    "name": "ipython",
    "version": 3
   },
   "file_extension": ".py",
   "mimetype": "text/x-python",
   "name": "python",
   "nbconvert_exporter": "python",
   "pygments_lexer": "ipython3",
   "version": "3.11.7"
  }
 },
 "nbformat": 4,
 "nbformat_minor": 2
}
