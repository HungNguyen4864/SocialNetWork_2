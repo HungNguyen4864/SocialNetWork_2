{
 "cells": [
  {
   "cell_type": "code",
   "execution_count": 1,
   "metadata": {},
   "outputs": [],
   "source": [
    "import time\n",
    "import pandas as pd\n",
    "from groupmembercrawl import FacebookGroupMemberCrawl\n",
    "from grouppostcrawl import FacebookGroupPostCrawl\n"
   ]
  },
  {
   "cell_type": "code",
   "execution_count": 2,
   "metadata": {},
   "outputs": [
    {
     "name": "stdout",
     "output_type": "stream",
     "text": [
      "\n",
      "====== Facebook Group post Scraper ======\n",
      "Login success\n",
      "-----------------\n",
      "0\n",
      "Found 6 post elements on scroll 1\n",
      "-------------\n",
      "4\n",
      "-------------\n",
      "4\n",
      "Found 4 post elements on scroll 2\n",
      "-------------\n",
      "6\n",
      "-------------\n",
      "6\n",
      "Found 6 post elements on scroll 3\n",
      "-------------\n",
      "10\n",
      "-------------\n",
      "10\n",
      "Found 3 post elements on scroll 4\n",
      "-------------\n",
      "11\n",
      "-------------\n",
      "11\n",
      "Found 4 post elements on scroll 5\n",
      "-------------\n",
      "12\n",
      "-------------\n",
      "12\n",
      "Found 8 post elements on scroll 6\n",
      "-------------\n",
      "17\n",
      "-------------\n",
      "17\n",
      "Found 9 post elements on scroll 7\n",
      "-------------\n",
      "21\n",
      "-------------\n",
      "21\n",
      "Found 10 post elements on scroll 8\n",
      "-------------\n",
      "26\n",
      "-------------\n",
      "26\n",
      "Found 13 post elements on scroll 9\n",
      "-------------\n",
      "34\n",
      "-------------\n",
      "Post data saved to ex_post.xlsx\n"
     ]
    }
   ],
   "source": [
    "username = 'phanmthihoa05@gmail.com'\n",
    "password = 'Hung26082003'\n",
    "group_id = '811896080494851'\n",
    "scroll_count = 30\n",
    "try:\n",
    "    scraper = FacebookGroupPostCrawl(username= username, password = password, group_id = group_id, scroll_count= scroll_count)\n",
    "    if scraper.login():\n",
    "        print('-----------------')\n",
    "        postlist = scraper.get_group_posts()\n",
    "        scraper.save_post_to_excel(postlist)\n",
    "        # deitalpost = scraper.get_detail_each_post(postlist)\n",
    "        # scraper.save_reactions_to_excel(deitalpost)\n",
    "        time.sleep(10)\n",
    "except Exception as e:\n",
    "    pass"
   ]
  },
  {
   "cell_type": "code",
   "execution_count": 3,
   "metadata": {},
   "outputs": [],
   "source": [
    "# def save_to_excel(members):\n",
    "#             file_name = f\"ex_post.xlsx\"\n",
    "#             df = pd.DataFrame(members, columns=[\"Post ID\", \"type\"])\n",
    "#             df.to_excel(file_name, index=False)\n",
    "#             print(f\"Data saved to {file_name}\")\n",
    "# save_to_excel(all_post)"
   ]
  },
  {
   "cell_type": "code",
   "execution_count": null,
   "metadata": {},
   "outputs": [],
   "source": []
  }
 ],
 "metadata": {
  "kernelspec": {
   "display_name": "base",
   "language": "python",
   "name": "python3"
  },
  "language_info": {
   "codemirror_mode": {
    "name": "ipython",
    "version": 3
   },
   "file_extension": ".py",
   "mimetype": "text/x-python",
   "name": "python",
   "nbconvert_exporter": "python",
   "pygments_lexer": "ipython3",
   "version": "3.11.7"
  }
 },
 "nbformat": 4,
 "nbformat_minor": 2
}
