{
 "cells": [
  {
   "cell_type": "code",
   "execution_count": 1,
   "metadata": {},
   "outputs": [],
   "source": [
    "import time\n",
    "import pandas as pd\n",
    "from groupmembercrawl import FacebookGroupMemberCrawl\n",
    "from grouppostcrawl import FacebookGroupPostCrawl\n"
   ]
  },
  {
   "cell_type": "code",
   "execution_count": null,
   "metadata": {},
<<<<<<< Updated upstream
   "outputs": [],
=======
   "outputs": [
    {
     "name": "stdout",
     "output_type": "stream",
     "text": [
      "\n",
      "====== Facebook Group post Scraper ======\n",
      "Login success\n",
      "-----------------\n",
      "0      917229586628166\n",
      "1      852608503090275\n",
      "2      919042973113494\n",
      "3      851215433229582\n",
      "4      843559330661859\n",
      "            ...       \n",
      "344    930473468637111\n",
      "345    927037175647407\n",
      "346    850129473338178\n",
      "347    834230024928123\n",
      "348    865322978485494\n",
      "Name: post_id, Length: 349, dtype: int64\n",
      "Failed for XPath: //span[@class='xrbpyxo x6ikm8r x10wlt62 xlyipyv x1exxlbk'], Error: Message: no such element: Unable to locate element: {\"method\":\"xpath\",\"selector\":\"//span[@class='xrbpyxo x6ikm8r x10wlt62 xlyipyv x1exxlbk']\"}\n",
      "  (Session info: chrome=131.0.6778.205); For documentation on this error, please visit: https://www.selenium.dev/documentation/webdriver/troubleshooting/errors#no-such-element-exception\n",
      "Stacktrace:\n",
      "\tGetHandleVerifier [0x009B33E3+25059]\n",
      "\t(No symbol) [0x0093CDE4]\n",
      "\t(No symbol) [0x0081BEC3]\n",
      "\t(No symbol) [0x0085FD86]\n",
      "\t(No symbol) [0x0085FFCB]\n",
      "\t(No symbol) [0x0089D952]\n",
      "\t(No symbol) [0x00881F44]\n",
      "\t(No symbol) [0x0089B51E]\n",
      "\t(No symbol) [0x00881C96]\n",
      "\t(No symbol) [0x00853FAC]\n",
      "\t(No symbol) [0x00854F3D]\n",
      "\tGetHandleVerifier [0x00CA5543+3113795]\n",
      "\tGetHandleVerifier [0x00CBA20A+3198986]\n",
      "\tGetHandleVerifier [0x00CB29E2+3168226]\n",
      "\tGetHandleVerifier [0x00A53250+680016]\n",
      "\t(No symbol) [0x0094572D]\n",
      "\t(No symbol) [0x009429D8]\n",
      "\t(No symbol) [0x00942B75]\n",
      "\t(No symbol) [0x009357D0]\n",
      "\tBaseThreadInitThunk [0x76565D49+25]\n",
      "\tRtlInitializeExceptionChain [0x777CCEBB+107]\n",
      "\tRtlGetAppContainerNamedObjectPath [0x777CCE41+561]\n",
      "\n",
      "Failed for XPath: //span[@class='xrbpyxo x6ikm8r x10wlt62 xlyipyv x1exxlbk']//span[contains(text(), '2')], Error: Message: no such element: Unable to locate element: {\"method\":\"xpath\",\"selector\":\"//span[@class='xrbpyxo x6ikm8r x10wlt62 xlyipyv x1exxlbk']//span[contains(text(), '2')]\"}\n",
      "  (Session info: chrome=131.0.6778.205); For documentation on this error, please visit: https://www.selenium.dev/documentation/webdriver/troubleshooting/errors#no-such-element-exception\n",
      "Stacktrace:\n",
      "\tGetHandleVerifier [0x009B33E3+25059]\n",
      "\t(No symbol) [0x0093CDE4]\n",
      "\t(No symbol) [0x0081BEC3]\n",
      "\t(No symbol) [0x0085FD86]\n",
      "\t(No symbol) [0x0085FFCB]\n",
      "\t(No symbol) [0x0089D952]\n",
      "\t(No symbol) [0x00881F44]\n",
      "\t(No symbol) [0x0089B51E]\n",
      "\t(No symbol) [0x00881C96]\n",
      "\t(No symbol) [0x00853FAC]\n",
      "\t(No symbol) [0x00854F3D]\n",
      "\tGetHandleVerifier [0x00CA5543+3113795]\n",
      "\tGetHandleVerifier [0x00CBA20A+3198986]\n",
      "\tGetHandleVerifier [0x00CB29E2+3168226]\n",
      "\tGetHandleVerifier [0x00A53250+680016]\n",
      "\t(No symbol) [0x0094572D]\n",
      "\t(No symbol) [0x009429D8]\n",
      "\t(No symbol) [0x00942B75]\n",
      "\t(No symbol) [0x009357D0]\n",
      "\tBaseThreadInitThunk [0x76565D49+25]\n",
      "\tRtlInitializeExceptionChain [0x777CCEBB+107]\n",
      "\tRtlGetAppContainerNamedObjectPath [0x777CCE41+561]\n",
      "\n",
      "Found element with XPath: //span[@class='xrbpyxo x6ikm8r x10wlt62 xlyipyv x1exxlbk']\n",
      "Found element with XPath: //span[@class='xrbpyxo x6ikm8r x10wlt62 xlyipyv x1exxlbk']\n",
      "Found element with XPath: //span[@class='xrbpyxo x6ikm8r x10wlt62 xlyipyv x1exxlbk']\n",
      "Found element with XPath: //span[@class='xrbpyxo x6ikm8r x10wlt62 xlyipyv x1exxlbk']\n",
      "Found element with XPath: //span[@class='xrbpyxo x6ikm8r x10wlt62 xlyipyv x1exxlbk']\n",
      "Found element with XPath: //span[@class='xrbpyxo x6ikm8r x10wlt62 xlyipyv x1exxlbk']\n"
     ]
    },
    {
     "ename": "KeyboardInterrupt",
     "evalue": "",
     "output_type": "error",
     "traceback": [
      "\u001b[1;31m---------------------------------------------------------------------------\u001b[0m",
      "\u001b[1;31mKeyboardInterrupt\u001b[0m                         Traceback (most recent call last)",
      "Cell \u001b[1;32mIn[2], line 12\u001b[0m\n\u001b[0;32m      9\u001b[0m \u001b[38;5;66;03m# postlist = scraper.get_group_posts()\u001b[39;00m\n\u001b[0;32m     10\u001b[0m \u001b[38;5;66;03m# scraper.save_post_to_excel(postlist)\u001b[39;00m\n\u001b[0;32m     11\u001b[0m file_path \u001b[38;5;241m=\u001b[39m \u001b[38;5;124m'\u001b[39m\u001b[38;5;124mex_post.xlsx\u001b[39m\u001b[38;5;124m'\u001b[39m\n\u001b[1;32m---> 12\u001b[0m deitalpost \u001b[38;5;241m=\u001b[39m scraper\u001b[38;5;241m.\u001b[39mget_detail_each_post(file_path)\n\u001b[0;32m     13\u001b[0m scraper\u001b[38;5;241m.\u001b[39msave_reactions_to_excel(deitalpost)\n\u001b[0;32m     14\u001b[0m time\u001b[38;5;241m.\u001b[39msleep(\u001b[38;5;241m10\u001b[39m)\n",
      "File \u001b[1;32md:\\SocialNetWork\\crawl_data_x\\grouppostcrawl.py:150\u001b[0m, in \u001b[0;36mFacebookGroupPostCrawl.get_detail_each_post\u001b[1;34m(self, file_path)\u001b[0m\n\u001b[0;32m    148\u001b[0m \u001b[38;5;28;01mfor\u001b[39;00m post \u001b[38;5;129;01min\u001b[39;00m post_ids:\n\u001b[0;32m    149\u001b[0m     \u001b[38;5;28;01mtry\u001b[39;00m:\n\u001b[1;32m--> 150\u001b[0m         post_reaction \u001b[38;5;241m=\u001b[39m \u001b[38;5;28mself\u001b[39m\u001b[38;5;241m.\u001b[39mget_post_reactions(post)\n\u001b[0;32m    151\u001b[0m         detailpost\u001b[38;5;241m.\u001b[39madd((post, \u001b[38;5;28mtuple\u001b[39m(post_reaction)))\n\u001b[0;32m    152\u001b[0m     \u001b[38;5;28;01mexcept\u001b[39;00m \u001b[38;5;167;01mException\u001b[39;00m \u001b[38;5;28;01mas\u001b[39;00m e:\n",
      "File \u001b[1;32md:\\SocialNetWork\\crawl_data_x\\grouppostcrawl.py:77\u001b[0m, in \u001b[0;36mFacebookGroupPostCrawl.get_post_reactions\u001b[1;34m(self, post_id)\u001b[0m\n\u001b[0;32m     75\u001b[0m \u001b[38;5;28;01mtry\u001b[39;00m:\n\u001b[0;32m     76\u001b[0m     \u001b[38;5;28mself\u001b[39m\u001b[38;5;241m.\u001b[39mdriver\u001b[38;5;241m.\u001b[39mget(\u001b[38;5;124mf\u001b[39m\u001b[38;5;124m\"\u001b[39m\u001b[38;5;124mhttps://www.facebook.com/groups/\u001b[39m\u001b[38;5;132;01m{\u001b[39;00m\u001b[38;5;28mself\u001b[39m\u001b[38;5;241m.\u001b[39mgroup_id\u001b[38;5;132;01m}\u001b[39;00m\u001b[38;5;124m/posts/\u001b[39m\u001b[38;5;132;01m{\u001b[39;00mpost_id\u001b[38;5;132;01m}\u001b[39;00m\u001b[38;5;124m/\u001b[39m\u001b[38;5;124m\"\u001b[39m) \n\u001b[1;32m---> 77\u001b[0m     time\u001b[38;5;241m.\u001b[39msleep(\u001b[38;5;241m10\u001b[39m)\n\u001b[0;32m     78\u001b[0m     \u001b[38;5;28mself\u001b[39m\u001b[38;5;241m.\u001b[39mdriver\u001b[38;5;241m.\u001b[39mexecute_script(\u001b[38;5;124m\"\u001b[39m\u001b[38;5;124mreturn document.body.scrollHeight\u001b[39m\u001b[38;5;124m\"\u001b[39m)\n\u001b[0;32m     79\u001b[0m     \u001b[38;5;28mself\u001b[39m\u001b[38;5;241m.\u001b[39mdriver\u001b[38;5;241m.\u001b[39mexecute_script(\u001b[38;5;124m\"\u001b[39m\u001b[38;5;124mwindow.scrollTo(0, document.body.scrollHeight);\u001b[39m\u001b[38;5;124m\"\u001b[39m)\n",
      "\u001b[1;31mKeyboardInterrupt\u001b[0m: "
     ]
    }
   ],
>>>>>>> Stashed changes
   "source": [
    "username = 'phanmthihoa05@gmail.com'\n",
    "password = 'Hung26082003'\n",
    "group_id = '811896080494851'\n",
    "scroll_count = 1500\n",
    "try:\n",
    "    scraper = FacebookGroupPostCrawl(username= username, password = password, group_id = group_id, scroll_count= scroll_count)\n",
    "    if scraper.login():\n",
    "        print('-----------------')\n",
    "        # postlist = scraper.get_group_posts()\n",
    "        # scraper.save_post_to_excel(postlist)\n",
    "        file_path = 'ex_post.xlsx'\n",
<<<<<<< Updated upstream
<<<<<<< Updated upstream
    "        deitalpost = scraper.get_detail_each_post_comments(file_path)\n",
    "        scraper.save_comments_to_excel(deitalpost)\n",
=======
    "        deitalpost = scraper.get_detail_each_post(file_path)\n",
    "        scraper.save_reactions_to_excel(deitalpost)\n",
>>>>>>> Stashed changes
=======
    "        deitalpost = scraper.get_detail_each_post(file_path)\n",
    "        scraper.save_reactions_to_excel(deitalpost)\n",
>>>>>>> Stashed changes
    "        time.sleep(10)\n",
    "except Exception as e:\n",
    "    pass"
   ]
  },
  {
   "cell_type": "code",
   "execution_count": 3,
   "metadata": {},
   "outputs": [],
   "source": [
    "# def save_to_excel(members):\n",
    "#             file_name = f\"ex_post.xlsx\"\n",
    "#             df = pd.DataFrame(members, columns=[\"Post ID\", \"type\"])\n",
    "#             df.to_excel(file_name, index=False)\n",
    "#             print(f\"Data saved to {file_name}\")\n",
    "# save_to_excel(all_post)"
   ]
  },
  {
   "cell_type": "code",
   "execution_count": null,
   "metadata": {},
   "outputs": [],
   "source": []
  }
 ],
 "metadata": {
  "kernelspec": {
   "display_name": "base",
   "language": "python",
   "name": "python3"
  },
  "language_info": {
   "codemirror_mode": {
    "name": "ipython",
    "version": 3
   },
   "file_extension": ".py",
   "mimetype": "text/x-python",
   "name": "python",
   "nbconvert_exporter": "python",
   "pygments_lexer": "ipython3",
   "version": "3.11.7"
  }
 },
 "nbformat": 4,
 "nbformat_minor": 2
}
