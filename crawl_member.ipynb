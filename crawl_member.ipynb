{
 "cells": [
  {
   "cell_type": "code",
   "execution_count": 11,
   "metadata": {},
   "outputs": [],
   "source": [
    "from selenium import webdriver\n",
    "from selenium.webdriver.common.by import By\n",
    "from selenium.webdriver.support.ui import WebDriverWait\n",
    "from selenium.webdriver.support import expected_conditions as EC\n",
    "import time\n",
    "import json\n",
    "import getpass\n",
    "from datetime import datetime\n",
    "import os\n",
    "import pandas as pd"
   ]
  },
  {
   "cell_type": "code",
   "execution_count": 12,
   "metadata": {},
   "outputs": [],
   "source": [
    "class FacebookGroupMemberCrawl:\n",
    "    def __init__(self, username, password, group_id, scroll_count):\n",
    "        print(\"\\n====== Facebook Group Member Scraper ======\")\n",
    "        self.email = username\n",
    "        self.password = password\n",
    "        self.group_id = group_id\n",
    "        self.scroll_count = scroll_count\n",
    "        self.setup_driver()\n",
    "\n",
    "    def setup_driver(self):\n",
    "        try:\n",
    "            self.driver = webdriver.Chrome()\n",
    "            self.driver.maximize_window()\n",
    "        except Exception as e:\n",
    "            print(f\"Error: {e}\")\n",
    "\n",
    "    def login(self):\n",
    "        try:\n",
    "            self.driver.get(\"https://www.facebook.com/\")\n",
    "            self.driver.implicitly_wait(10)\n",
    "            self.driver.find_element(By.ID, \"email\").send_keys(self.email)\n",
    "            self.driver.find_element(By.ID, \"pass\").send_keys(self.password)\n",
    "            self.driver.find_element(By.NAME, \"login\").click()\n",
    "            time.sleep(10)\n",
    "            print('Login success')\n",
    "            return True\n",
    "        except Exception as e:\n",
    "            print(f\"Error: {e}\")\n",
    "            return False\n",
    "\n",
    "    def get_group_members(self):\n",
    "        try:\n",
    "            self.driver.get(f\"https://www.facebook.com/groups/{self.group_id}/members\")\n",
    "            time.sleep(5)\n",
    "            members = set()\n",
    "            for i in range(self.scroll_count):\n",
    "                self.driver.execute_script(\"window.scrollTo(0, document.body.scrollHeight);\")\n",
    "                time.sleep(3)\n",
    "                user_elements = self.driver.find_elements(By.CSS_SELECTOR, \"a[href*='/profile.php?id='], a[href*='/people/']\")\n",
    "                for user in user_elements:\n",
    "                    try:\n",
    "                        href = user.get_attribute(\"href\")\n",
    "                        user_id = href.split('?')[0].split('/')[-1]\n",
    "                        name = user.text\n",
    "                        members.add((user_id, name))\n",
    "                        print(f\"Member: {user_id} - {name}\")\n",
    "                    except Exception as e:\n",
    "                        continue\n",
    "            return list(members)\n",
    "        \n",
    "        except Exception as e:\n",
    "            print(f\"Error: {e}\")\n",
    "\n",
    "    def save_to_excel(self, members):\n",
    "        try:\n",
    "            file_name = f\"{self.group_id}.xlsx\"\n",
    "            df = pd.DataFrame(members, columns=[\"User ID\", \"Name\"])\n",
    "            df_clean = df[df['Name'].str.strip() != '']\n",
    "            df_clean.to_excel(file_name, index=False)\n",
    "            print(f\"Data saved to {file_name}\")\n",
    "        except Exception as e:\n",
    "            print(f\"Error: {e}\")\n"
   ]
  },
  {
   "cell_type": "code",
   "execution_count": null,
   "metadata": {},
   "outputs": [
    {
     "name": "stdout",
     "output_type": "stream",
     "text": [
      "\n",
      "======Facebook group member scraper======\n",
      "Login success\n",
      "-----------------\n",
      "Error: 'WebDriver' object has no attribute 'web'\n",
      "Empty DataFrame\n",
      "Columns: [User ID, Name]\n",
      "Index: []\n",
      "Data saved to 811896080494851.xlsx\n"
     ]
    }
   ],
   "source": [
    "username = 'phanmthihoa05@gmail.com'\n",
    "password = 'Hung26082003'\n",
    "group_id = '811896080494851'\n",
    "scroll_count = 10\n",
    "try:\n",
    "    scraper = FacebookGroupMemberCrawl(username= username, password = password, group_id = group_id, scroll_count= scroll_count)\n",
    "    if scraper.login():\n",
    "        print('-----------------')\n",
    "        members = scraper.get_group_members()\n",
    "        scraper.save_to_excel(members)\n",
    "        time.sleep(50)\n",
    "except Exception as e:\n",
    "    pass"
   ]
  }
 ],
 "metadata": {
  "kernelspec": {
   "display_name": "base",
   "language": "python",
   "name": "python3"
  },
  "language_info": {
   "codemirror_mode": {
    "name": "ipython",
    "version": 3
   },
   "file_extension": ".py",
   "mimetype": "text/x-python",
   "name": "python",
   "nbconvert_exporter": "python",
   "pygments_lexer": "ipython3",
   "version": "3.11.7"
  }
 },
 "nbformat": 4,
 "nbformat_minor": 2
}
